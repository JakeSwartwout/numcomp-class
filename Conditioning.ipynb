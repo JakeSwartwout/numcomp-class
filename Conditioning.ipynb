{
 "cells": [
  {
   "cell_type": "markdown",
   "metadata": {},
   "source": [
    "# Conditioning\n",
    "\n",
    "We say that a mathematical function $f(x)$ is well conditioned if small changes in $x$ produce small changes in $f(x)$.\n",
    "(What we mean by \"small\" will be made more precise.)\n",
    "In this context, $f(x)$ may represent a simple expression such as\n",
    "\n",
    "* $f(x) := 2 x$\n",
    "* $f(x) := \\sqrt{x}$\n",
    "* $f(x) := \\log{x}$\n",
    "* $f(x) := x - 1$\n",
    "\n",
    "but it may also represent a problem such as:\n",
    "\n",
    "* Find the positive root of the polynomial $t^2 + (1-x)t - x.$\n",
    "* Find the eigenvectors of the matrix\n",
    "$$ A(x) = \\begin{bmatrix} 1 & 1 \\\\ 0 & x \\end{bmatrix} .$$\n",
    "* Find the length of the rubber band when it finally snaps, as a function of temperature $x$ during manufacturing.\n",
    "* Find the time at which the slope avalanches as a function of the wind speed $x$ during the storm.\n",
    "* Find the probability that the slope avalanches in the next 48 hours as a function of the wind speed $x$ during the storm.\n",
    "* Find the probability that the hurricane makes landfall as a function of the observations $x$.\n",
    "* Find the shape of the tumor as a function of the received acoustic waves $x$ in an ultrasound scan.\n",
    "* Find the lift and drag of the airplane wing as a function of its shape $x$.\n",
    "* Find the stall speed of the airplane wing as a function of its shape $x$.\n",
    "* Find the global mean temperature change as a function of the emissions profile $x$.\n",
    "* Find the annual mean rainfall in the South Platte drainage basin as a function of the emissions profile $x$.\n",
    "\n",
    "Some of these problems are fully-specified while others involve sophisticated models and ongoing community research problems.\n",
    "In some cases, the models that are computable may incur greater uncertainty than the underlying system.\n",
    "In such cases, an analog experiment might produce smoother variation of the output as the problem data $x$ are varied.\n",
    "In others, the model might be better behaved than what it seeks to model.\n",
    "Some of these problems may be ill-posed.\n",
    "\n",
    "## Well-posedness\n",
    "\n",
    "A problem is said to be [well-posed](https://en.wikipedia.org/wiki/Well-posed_problem) if\n",
    "1. a solution exists,\n",
    "2. the solution is unique, and\n",
    "3. the solution depends continuously on the problem specification.\n",
    "\n",
    "Mathematically, continuous variation in part 3 can be arbitrarily fast, but there may be measurement error, manufacturing tolerances, or incomplete specification in real-world problems, such that we need to quantify part 3.  This is the role of conditioning.\n",
    "\n",
    "Let's explore conditioning by way of a rootfinding example."
   ]
  },
  {
   "cell_type": "code",
   "execution_count": 19,
   "metadata": {},
   "outputs": [],
   "source": [
    "%matplotlib inline\n",
    "import matplotlib.pyplot as plt\n",
    "plt.style.use('ggplot')\n",
    "import numpy as np"
   ]
  },
  {
   "cell_type": "markdown",
   "metadata": {},
   "source": [
    "We've observed algorithms struggle to compute roots accurately, especially when the roots have high multiplicity.  Difficulty computing zeros of polynomials can also arise when all the roots are simple, and it may be inherent to the problem, rather than a result of the numerical method.  For example, the Wilkinson polynomial\n",
    "$$ \\prod_{i=1}^{20} (x - i) = \\sum_{i=0}^{20} a_i x^i $$\n",
    "has roots at each of the positive integers up to 20."
   ]
  },
  {
   "cell_type": "code",
   "execution_count": 33,
   "metadata": {},
   "outputs": [
    {
     "data": {
      "text/plain": [
       "array([        1,       -55,      1320,    -18150,    157773,   -902055,\n",
       "         3416930,  -8409500,  12753576, -10628640,   3628800])"
      ]
     },
     "execution_count": 33,
     "metadata": {},
     "output_type": "execute_result"
    }
   ],
   "source": [
    "def wilkinson(n):\n",
    "    \"\"\"Compute Wilkinson polynomial of degree n in the\n",
    "    monomial basis p[0]*x^n + ... + p[n-1]*x + p[n].\n",
    "    The polynomial can be evaluated using np.polyval(p,x)\n",
    "    \"\"\"\n",
    "    p = np.array([1])\n",
    "    for i in range(1, n+1):\n",
    "        p = np.polymul(p, np.array([1, -i]))\n",
    "    return p\n",
    "\n",
    "wilkinson(10)"
   ]
  },
  {
   "cell_type": "code",
   "execution_count": 39,
   "metadata": {},
   "outputs": [
    {
     "data": {
      "image/png": "[encoded data removed]",
      "text/plain": [
       "<Figure size 432x288 with 1 Axes>"
      ]
     },
     "metadata": {},
     "output_type": "display_data"
    }
   ],
   "source": [
    "def plot_wilkinson(n):\n",
    "    \"\"\"Plot the Wilkinson polynomial of degree n.\"\"\"\n",
    "    p = wilkinson(n)\n",
    "    p[n//2] *= 1 + 1e-10\n",
    "    x = np.linspace(0, n+1, 500)\n",
    "    y = np.polyval(p, x)\n",
    "    #plt.plot(x, y)\n",
    "    plt.semilogy(x, np.abs(y))\n",
    "    \n",
    "plot_wilkinson(18)"
   ]
  },
  {
   "cell_type": "markdown",
   "metadata": {},
   "source": [
    "The roots are extremely sensitive to perturbations of the coefficients $a_i$, as shown in this figure from Trefethen and Bau (1999).\n",
    "![Ill conditioning of roots of Wilkinson's polynomial](img/TB-Wilkinson.png)\n",
    "\n",
    "Numerical difficulties in which \"correct\" algorithms produce unreliable solutions almost always stem from lack of *stability* and/or *ill conditioning*.\n",
    "\n",
    "### Absolute condition number\n",
    "Consider a function $f: X \\to Y$ and define the *absolute condition number*\n",
    "$$ \\hat\\kappa = \\lim_{\\delta \\to 0} \\max_{|\\delta x| < \\delta} \\frac{|f(x + \\delta x) - f(x)|}{|\\delta x|} = \\max_{\\delta x} \\frac{|\\delta f|}{|\\delta x|}. $$\n",
    "If $f$ is differentiable, then $\\hat\\kappa = |f'(x)|$.\n",
    "\n",
    "### Floating point arithmetic\n",
    "Floating point arithmetic $x \\circledast y := \\text{float}(x * y)$ is exact within a relative accuracy $\\epsilon_{\\text{machine}}$.  Formally,\n",
    "$$ x \\circledast y = (x * y) (1 + \\epsilon) $$\n",
    "for some $|\\epsilon| \\le \\epsilon_{\\text{machine}}$."
   ]
  },
  {
   "cell_type": "code",
   "execution_count": 44,
   "metadata": {},
   "outputs": [
    {
     "data": {
      "text/plain": [
       "'0.00000000000000000000'"
      ]
     },
     "execution_count": 44,
     "metadata": {},
     "output_type": "execute_result"
    }
   ],
   "source": [
    "format(1/3, '.20f')\n",
    "format(.2 - 1/3 + 2/15, '.20f')\n",
    "format((.2 - 1/3) + (1/3 - 0.2), '.20f')\n",
    "#format((1 + 1e-12) - 1, '.20f')\n",
    "#format(1e-12 + 1 - 1, '.20f')"
   ]
  },
  {
   "cell_type": "code",
   "execution_count": 45,
   "metadata": {},
   "outputs": [
    {
     "name": "stdout",
     "output_type": "stream",
     "text": [
      "Machine epsilon = 1.1102230246251565e-16\n"
     ]
    },
    {
     "data": {
      "text/plain": [
       "2.220446049250313e-16"
      ]
     },
     "execution_count": 45,
     "metadata": {},
     "output_type": "execute_result"
    }
   ],
   "source": [
    "eps = 1\n",
    "while 1 + eps > 1:\n",
    "    eps /= 2\n",
    "eps_machine = eps\n",
    "print('Machine epsilon = {}'.format(eps_machine))\n",
    "(1 + 1.12e-16) - 1"
   ]
  },
  {
   "cell_type": "code",
   "execution_count": 8,
   "metadata": {},
   "outputs": [
    {
     "data": {
      "image/png": "[encoded data removed]",
      "text/plain": [
       "<Figure size 432x288 with 1 Axes>"
      ]
     },
     "metadata": {},
     "output_type": "display_data"
    }
   ],
   "source": [
    "def plot_neighborhood(f, x0, atol=1e-10, rtol=1e-10):\n",
    "    width = atol + rtol * np.abs(x0)\n",
    "    x = np.linspace(x0 - width, x0 + width, 201)\n",
    "    plt.plot(x, f(x))\n",
    "    plt.xlabel('x')\n",
    "    plt.ylabel('f(x)')\n",
    "\n",
    "plot_neighborhood(lambda x: (x + 1) - 1, 0, 1e-15)"
   ]
  },
  {
   "cell_type": "markdown",
   "metadata": {},
   "source": [
    "This function $f(x) = (x + 1) - 1 = x$ is well conditioned for all $x$, but this numerical algorithm is unstable (we'll discuss this below)."
   ]
  },
  {
   "cell_type": "code",
   "execution_count": 9,
   "metadata": {},
   "outputs": [
    {
     "data": {
      "image/png": "[encoded data removed]",
      "text/plain": [
       "<Figure size 432x288 with 1 Axes>"
      ]
     },
     "metadata": {},
     "output_type": "display_data"
    }
   ],
   "source": [
    "plot_neighborhood(np.log, 1, .5)"
   ]
  },
  {
   "cell_type": "markdown",
   "metadata": {},
   "source": [
    "The function $f(x) = \\log x$ has $f'(1) = 1$.  The conditioning is good in an absolute sense, $\\hat \\kappa = 1$.  However, the outputs from `np.log(1+x)` have large relative error relative to the exact value, provided here by the function `np.log1p(x)`."
   ]
  },
  {
   "cell_type": "code",
   "execution_count": 10,
   "metadata": {},
   "outputs": [
    {
     "data": {
      "image/png": "[encoded data removed]",
      "text/plain": [
       "<Figure size 432x288 with 1 Axes>"
      ]
     },
     "metadata": {},
     "output_type": "display_data"
    }
   ],
   "source": [
    "plot_neighborhood(lambda x: np.log(1+x), 0, atol=1e-15)\n",
    "plot_neighborhood(np.log1p, 0, atol=1e-15)"
   ]
  },
  {
   "cell_type": "code",
   "execution_count": 11,
   "metadata": {},
   "outputs": [
    {
     "data": {
      "text/plain": [
       "8.890058234103173e-17"
      ]
     },
     "execution_count": 11,
     "metadata": {},
     "output_type": "execute_result"
    }
   ],
   "source": [
    "np.log(1 + 1e-12) - np.log1p(1e-12)"
   ]
  },
  {
   "cell_type": "code",
   "execution_count": 12,
   "metadata": {},
   "outputs": [
    {
     "data": {
      "text/plain": [
       "8.890058234107618e-05"
      ]
     },
     "execution_count": 12,
     "metadata": {},
     "output_type": "execute_result"
    }
   ],
   "source": [
    "(np.log(1 + 1e-12) - np.log1p(1e-12)) / np.log1p(1e-12)"
   ]
  },
  {
   "cell_type": "code",
   "execution_count": 13,
   "metadata": {},
   "outputs": [
    {
     "data": {
      "text/plain": [
       "array([ 1.22464680e-16, -3.39606540e-11, -2.23936276e-06, -2.36209053e-01])"
      ]
     },
     "execution_count": 13,
     "metadata": {},
     "output_type": "execute_result"
    }
   ],
   "source": [
    "x = np.array([1,1e5,1e10,1e15])\n",
    "np.sin(np.pi*x)"
   ]
  },
  {
   "cell_type": "code",
   "execution_count": 14,
   "metadata": {},
   "outputs": [
    {
     "data": {
      "text/plain": [
       "array([ 0.00000000e+00, -1.11022302e-16,  0.00000000e+00,  0.00000000e+00])"
      ]
     },
     "execution_count": 14,
     "metadata": {},
     "output_type": "execute_result"
    }
   ],
   "source": [
    "np.sin(x)**2 + np.cos(x)**2 - 1"
   ]
  },
  {
   "cell_type": "markdown",
   "metadata": {},
   "source": [
    "### Relative condition number\n",
    "\n",
    "Given the relative nature of floating point arithmetic, it is more useful to discuss **relative condition number**,\n",
    "$$ \\kappa = \\max_{\\delta x} \\frac{|\\delta f|/|f|}{|\\delta x|/|x|}\n",
    "= \\max_{\\delta x} \\Big[ \\frac{|\\delta f|/|\\delta x|}{|f| / |x|} \\Big] $$\n",
    "or, if $f$ is differentiable,\n",
    "$$ \\kappa = |f'(x)| \\frac{|x|}{|f|} . $$\n",
    "\n",
    "How does a condition number get big?"
   ]
  },
  {
   "cell_type": "markdown",
   "metadata": {},
   "source": [
    "## Stability\n",
    "\n",
    "We use the notation $\\tilde f(x)$ to mean a numerical algorithm for approximating $f(x)$.  Additionally, $\\tilde x = x (1 + \\epsilon)$ is some \"good\" approximation of the exact input $x$.\n",
    "\n",
    "### Stability\n",
    "**\"nearly the right answer to nearly the right question\"**\n",
    "$$ \\frac{\\lvert \\tilde f(x) - f(\\tilde x) \\rvert}{| f(\\tilde x) |} \\in O(\\epsilon_{\\text{machine}}) $$\n",
    "for some $\\tilde x$ that is close to $x$\n",
    "\n",
    "### Backward Stability\n",
    "**\"exactly the right answer to nearly the right question\"**\n",
    "$$ \\tilde f(x) = f(\\tilde x) $$\n",
    "for some $\\tilde x$ that is close to $x$\n",
    "\n",
    "* Every backward stable algorithm is stable.\n",
    "* Not every stable algorithm is backward stable.\n",
    "\n",
    "### Accuracy of backward stable algorithms (Theorem)\n",
    "\n",
    "A backward stable algorithm for computing $f(x)$ has relative accuracy\n",
    "$$ \\left\\lvert \\frac{\\tilde f(x) - f(x)}{f(x)} \\right\\rvert \\in O(\\kappa(f) \\epsilon_{\\text{machine}}) . $$\n",
    "Backward stability is generally the best we can hope for.\n",
    "\n",
    "In practice, it is rarely possible for a function to be backward stable when the output space is higher dimensional than the input space."
   ]
  },
  {
   "cell_type": "markdown",
   "metadata": {},
   "source": [
    "# Beyond IEEE-754 double precision\n",
    "\n",
    "## Lower precision IEEE-754 and relatives\n",
    "\n",
    "The default floating point type in Python is `double` precision, which requires 8 bytes (64 bits) to store and offers $\\epsilon_{\\text{machine}} \\approx 10^{-16}$.\n",
    "\n",
    "* IEEE-754 **single precision** (`float` in C and related languages) is half the size (4 bytes = 32 bits) and has long been popular when adequate.\n",
    "* IEEE-754 **half precision** reduces both range (exponent bits) and precision (mantissa) bits.\n",
    "* **bfloat16** is a relatively new non-IEEE type that is popular in machine learning because it's easy to convert to/from single precision (just truncate/round the mantissa).\n",
    "\n",
    "| Type | $\\epsilon_{\\text{machine}}$ | exponent bits | mantissa bits | diagram |\n",
    "|-----|-----|---|---|---|\n",
    "| double | 1.11e-16 | 11 | 52 | |\n",
    "| single | 5.96e-8 | 8 | 23 | ![](https://upload.wikimedia.org/wikipedia/commons/d/d2/Float_example.svg) |\n",
    "| [half](https://en.wikipedia.org/wiki/Half-precision_floating-point_format) | 4.88e-4 | 5 | 10 | ![](https://upload.wikimedia.org/wikipedia/commons/thumb/2/21/IEEE_754r_Half_Floating_Point_Format.svg/350px-IEEE_754r_Half_Floating_Point_Format.svg.png) |\n",
    "| [bfloat16](https://en.wikipedia.org/wiki/Bfloat16_floating-point_format) | 3.91e-3 | 8 | 7 | ![](https://upload.wikimedia.org/wikipedia/commons/0/0b/Bfloat16_format.svg) |\n",
    "\n",
    "\n",
    "### Mixed-precision algorithms\n",
    "\n",
    "Sometimes reducing the precision (from double to single, or from single to half) compromises the quality of results (due to ill-conditioning or poor stability), but one can recover accurate results by using higher precision in a small fraction of the computation.  These are *mixed-precision algorithms*, and can be a useful optimization technique.  Such techniques can give up to 2x improvement if memory bandwidth (for floating point data) or pure vectorizable flops are the bottleneck.  In case of single to half precision, the benefit can be greater than 2x when using special hardware, such as GPUs with \"tensor cores\".\n",
    "\n",
    "Warning: Premature use of mixed-precision techniques can often obscure better algorithms that can provide greater speedups and/or reliability improvements."
   ]
  }
 ],
 "metadata": {
  "kernelspec": {
   "display_name": "Python 3",
   "language": "python",
   "name": "python3"
  },
  "language_info": {
   "codemirror_mode": {
    "name": "ipython",
    "version": 3
   },
   "file_extension": ".py",
   "mimetype": "text/x-python",
   "name": "python",
   "nbconvert_exporter": "python",
   "pygments_lexer": "ipython3",
   "version": "3.8.1"
  }
 },
 "nbformat": 4,
 "nbformat_minor": 4
}
